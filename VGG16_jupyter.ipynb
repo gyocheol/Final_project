{
 "cells": [
  {
   "cell_type": "code",
   "execution_count": 1,
   "metadata": {
    "colab": {
     "base_uri": "https://localhost:8080/",
     "height": 35
    },
    "executionInfo": {
     "elapsed": 3600,
     "status": "ok",
     "timestamp": 1651151863072,
     "user": {
      "displayName": "GYOCHEOL GANG",
      "userId": "14451417543227904327"
     },
     "user_tz": -540
    },
    "id": "2HI3vJnag0cD",
    "outputId": "e3076df4-453a-4dec-c730-6afac8e7938b"
   },
   "outputs": [
    {
     "data": {
      "text/plain": [
       "'2.8.0'"
      ]
     },
     "execution_count": 1,
     "metadata": {},
     "output_type": "execute_result"
    }
   ],
   "source": [
    "import tensorflow as tf\n",
    "tf.__version__"
   ]
  },
  {
   "cell_type": "markdown",
   "metadata": {
    "id": "0fVFXaFvx0kJ"
   },
   "source": [
    "## 데이터 로드"
   ]
  },
  {
   "cell_type": "code",
   "execution_count": 2,
   "metadata": {
    "id": "dtzC6brZxPBH"
   },
   "outputs": [],
   "source": [
    "import os, shutil\n",
    "import matplotlib\n",
    "import matplotlib.pyplot as plt\n",
    "from os import remove\n",
    "import numpy as np\n",
    "import glob\n",
    "import PIL\n",
    "from PIL import Image"
   ]
  },
  {
   "cell_type": "code",
   "execution_count": 3,
   "metadata": {
    "id": "g-jjdyYGhL14"
   },
   "outputs": [],
   "source": [
    "# ## 파일 확장자명 jpg로 통일\n",
    "# list_f = ['train_gochu', 'train_hobak', 'train_oe', 'train_ohobak']\n",
    "# list_i = ['jpeg', 'JPEG', 'JPG']\n",
    "# path = './datasets/Plant_diseases/Diseases/'\n",
    "\n",
    "# # for x in list_f:\n",
    "# #   path_ = (f'{path}/{x}')\n",
    "# for i in list_i:\n",
    "#   files = glob.glob(f'/content/drive/MyDrive/Colab/img/*/*.{i}')\n",
    "#   for name in files:\n",
    "#     if not os.path.isdir(name):\n",
    "#       src = os.path.splitext(name)\n",
    "#       os.rename(name, src[0]+'.jpg')"
   ]
  },
  {
   "cell_type": "markdown",
   "metadata": {
    "id": "AGRivoG9hWRw"
   },
   "source": [
    "### 이미지, 라벨링 파일 전체 불러오기\n",
    "- 파일 전처리 (잎 부위촬영 제외 모두 삭제)\n",
    "- 숨김 파일 제외\n",
    "- ???_과제번호(79)_질병 (0/1)_질병코드_작물코드_촬영부위코드(잎 03)_작물생육코드_해충피해코드(정상0 초기1 중기2 말기3)\n",
    "- 질병코드 :\n",
    "    - 정상 00\n",
    "\n",
    "    - 고추 탄저병 01. => 작물코드 ( 01 )\n",
    "\n",
    "    - 고추 흰가루병 02  => 작물코드 ( 01 )\n",
    "    - 애호박 흰가루병 08 => 작물코드 ( 04 )\n",
    "    - 오이 흰가루병 12 => 작물코드 ( 06 )\n",
    "    - 호박 흰가루병 20 => 작물코드 ( 10 )"
   ]
  },
  {
   "cell_type": "code",
   "execution_count": 4,
   "metadata": {
    "id": "hSbrGL79qxWD"
   },
   "outputs": [],
   "source": [
    "# os.path.basename(파일경로)"
   ]
  },
  {
   "cell_type": "code",
   "execution_count": 5,
   "metadata": {
    "id": "ejVHmuBuhbqe"
   },
   "outputs": [],
   "source": [
    "# ## 숨긴파일, 라벨 파일 제외하고 불러오기\n",
    "# def load_image_path(path):\n",
    "#     file_list = os.listdir(path)\n",
    "#     print(file_list)\n",
    "#     file_list_py = [file for file in file_list if not file.startswith('.')]\n",
    "#     return file_list_py"
   ]
  },
  {
   "cell_type": "code",
   "execution_count": 6,
   "metadata": {
    "colab": {
     "base_uri": "https://localhost:8080/"
    },
    "executionInfo": {
     "elapsed": 887,
     "status": "ok",
     "timestamp": 1651152380315,
     "user": {
      "displayName": "GYOCHEOL GANG",
      "userId": "14451417543227904327"
     },
     "user_tz": -540
    },
    "id": "RnMtKRRoPOXY",
    "outputId": "e2692af3-15b0-40e9-d86f-bd3675086ec3"
   },
   "outputs": [],
   "source": [
    "# for x in list_f:\n",
    "#   path_ = (f'{path}/{x}')\n",
    "#   img = load_image_path(path_)\n",
    "#   print(img)"
   ]
  },
  {
   "cell_type": "code",
   "execution_count": 7,
   "metadata": {
    "id": "ZfXWtaTJkiFb"
   },
   "outputs": [],
   "source": [
    "# # 촬영부위가 잎이 아닌 이미지 모두 삭제\n",
    "# def leaf_img(datas): \n",
    "#     ls = []\n",
    "#     for data in datas:\n",
    "#         if data.split('_')[5] != '03':\n",
    "#             ls.append(data)\n",
    "#     new_datas = [x for x in datas if x not in ls]\n",
    "#     return new_datas"
   ]
  },
  {
   "cell_type": "code",
   "execution_count": 8,
   "metadata": {
    "colab": {
     "base_uri": "https://localhost:8080/"
    },
    "executionInfo": {
     "elapsed": 4,
     "status": "ok",
     "timestamp": 1651152702308,
     "user": {
      "displayName": "GYOCHEOL GANG",
      "userId": "14451417543227904327"
     },
     "user_tz": -540
    },
    "id": "Fsso-PUiU1-i",
    "outputId": "cc915c46-bbe3-4363-cd21-9a8eb48f8c8a"
   },
   "outputs": [],
   "source": [
    "# leaf = leaf_img(img)\n",
    "# leaf"
   ]
  },
  {
   "cell_type": "code",
   "execution_count": 9,
   "metadata": {
    "id": "hECvKiGIkh-v"
   },
   "outputs": [],
   "source": [
    "# ## 흰가루병이 아닌 이미지 모두 삭제 \n",
    "# ## 정상에서는 사용하지 말것\n",
    "# ## 질병코드(index 3): 고추 02, 애호박 08, 오이 12, 호박 20\n",
    "# ## 작물코드(index 4): 고추 01, 애호박 04, 오이 06, 호박 10\n",
    "\n",
    "# def disease_code(datas): \n",
    "#     new_datas = []\n",
    "#     for data in datas:\n",
    "#         crops = data.split('_')[4]\n",
    "#         disease = data.split('_')[3]\n",
    "        \n",
    "#         if crops == '01' and disease == '02': # 고추흰가루병\n",
    "#             new_datas.append(data) \n",
    "            \n",
    "#         elif crops == '04' and disease == '08': # 애호박 흰가루병\n",
    "#             new_datas.append(data) \n",
    "                \n",
    "#         elif crops == '06' and disease == '12': # 오이 흰가루병\n",
    "#             new_datas.append(data)  \n",
    "                \n",
    "#         elif crops == '10' and disease == '20':  # 호박 흰가루병\n",
    "#             new_datas.append(data) \n",
    "#     return new_datas"
   ]
  },
  {
   "cell_type": "code",
   "execution_count": 10,
   "metadata": {
    "id": "ckbcGSZzhZsf"
   },
   "outputs": [],
   "source": [
    "# root_path = './datasets/Plant_diseases/Diseases' ## root path\n",
    "# # os.mkdir(root_path)\n",
    "\n",
    "# train_dir = root_path + '/train'\n",
    "# # os.mkdir(train_dir)\n",
    "\n",
    "# valid_dir = root_path + '/valid'\n",
    "# # os.mkdir(valid_dir)\n",
    "\n",
    "# test_dir = root_path + '/test'\n",
    "# # os.mkdir(test_dir)"
   ]
  },
  {
   "cell_type": "code",
   "execution_count": 11,
   "metadata": {},
   "outputs": [],
   "source": [
    "path = '/Volumes/One Touch/plantDatasets_fix_PILError/'\n",
    "# file_list = os.listdir(path)\n",
    "\n",
    "## root path\n",
    "image_dir = os.path.join(path,'Plant_diseases/Diseases')  \n",
    "\n",
    "## train path\n",
    "train_dir = os.path.join(image_dir,'train') \n",
    "\n",
    "## valid path\n",
    "valid_dir = os.path.join(image_dir,'valid') \n",
    "\n",
    "## test path\n",
    "test_dir = os.path.join(image_dir,'test') "
   ]
  },
  {
   "cell_type": "code",
   "execution_count": 12,
   "metadata": {},
   "outputs": [],
   "source": [
    "# ## opencv로 불러와서 다시 저장하기\n",
    "# import cv2\n",
    "# import PIL, glob\n",
    "# from tqdm import tqdm ## for문에서 걸리는 시간 보여주는 라이브러리\n",
    "\n",
    "# imgs_ = glob.glob(f\"./datasets/Plant_diseases/Diseases/*/*/*\")\n",
    "\n",
    "# for img in tqdm(imgs_):\n",
    "#     try:\n",
    "#         src = cv2.imread(img, cv2.IMREAD_UNCHANGED)\n",
    "#         cv2.imwrite(img, src)\n",
    "\n",
    "#     except PIL.UnidentifiedImageError:\n",
    "#         print(img)\n",
    "#         cv2.imwrite(img, src)"
   ]
  },
  {
   "cell_type": "code",
   "execution_count": null,
   "metadata": {},
   "outputs": [],
   "source": []
  },
  {
   "cell_type": "code",
   "execution_count": 13,
   "metadata": {},
   "outputs": [],
   "source": [
    "# 안열리는 파일 삭제 \n",
    "import PIL, glob\n",
    "from PIL import Image\n",
    "from os import remove\n",
    "\n",
    "datalist = ['train', 'test', 'valid']\n",
    "\n",
    "for data in datalist : \n",
    "    imgs_ = glob.glob(f\"./datasets/Plant_diseases/Diseases/{data}/*/*.jpg\")\n",
    "\n",
    "    for img in imgs_:\n",
    "        try:\n",
    "            img = PIL.Image.open(img)\n",
    "        except PIL.UnidentifiedImageError:\n",
    "            print(img)\n",
    "            remove(img)"
   ]
  },
  {
   "cell_type": "code",
   "execution_count": 14,
   "metadata": {},
   "outputs": [],
   "source": [
    "# # imgs_에 있는 것들의 이미지만 가져옴\n",
    "# l = []\n",
    "# for i in range(len(imgs_)):\n",
    "#     x = os.path.basename(imgs_[i])\n",
    "#     l.append(x)\n",
    "# print(l)\n",
    "\n",
    "## 현재 l이 사진들 이름"
   ]
  },
  {
   "cell_type": "markdown",
   "metadata": {
    "id": "8yCeDrypzHB-"
   },
   "source": [
    "## 모델"
   ]
  },
  {
   "cell_type": "code",
   "execution_count": 15,
   "metadata": {
    "id": "WBKRpddjxO8o"
   },
   "outputs": [],
   "source": [
    "import numpy as np\n",
    "import tensorflow as tf\n",
    "\n",
    "from tensorflow.keras.applications.vgg16 import VGG16\n",
    "from tensorflow.keras.preprocessing.image import ImageDataGenerator\n",
    "from tensorflow.keras.layers import Conv2D, MaxPooling2D, Dense, Flatten, Dense, Dropout, Input\n",
    "from tensorflow.keras.models import Model\n",
    "from tensorflow.keras import optimizers, initializers, regularizers, metrics\n",
    "from tensorflow.keras import layers, models"
   ]
  },
  {
   "cell_type": "code",
   "execution_count": 16,
   "metadata": {
    "colab": {
     "base_uri": "https://localhost:8080/"
    },
    "executionInfo": {
     "elapsed": 342,
     "status": "ok",
     "timestamp": 1651049151290,
     "user": {
      "displayName": "GYOCHEOL GANG",
      "userId": "14451417543227904327"
     },
     "user_tz": -540
    },
    "id": "M-fryn46xO6b",
    "outputId": "0e7c947b-6011-440d-d561-8a6888115f74"
   },
   "outputs": [
    {
     "name": "stdout",
     "output_type": "stream",
     "text": [
      "Metal device set to: Apple M1\n"
     ]
    },
    {
     "name": "stderr",
     "output_type": "stream",
     "text": [
      "2022-05-01 17:26:54.791219: I tensorflow/core/common_runtime/pluggable_device/pluggable_device_factory.cc:305] Could not identify NUMA node of platform GPU ID 0, defaulting to 0. Your kernel may not have been built with NUMA support.\n",
      "2022-05-01 17:26:54.791316: I tensorflow/core/common_runtime/pluggable_device/pluggable_device_factory.cc:271] Created TensorFlow device (/job:localhost/replica:0/task:0/device:GPU:0 with 0 MB memory) -> physical PluggableDevice (device: 0, name: METAL, pci bus id: <undefined>)\n"
     ]
    },
    {
     "name": "stdout",
     "output_type": "stream",
     "text": [
      "Model: \"vgg16\"\n",
      "_________________________________________________________________\n",
      " Layer (type)                Output Shape              Param #   \n",
      "=================================================================\n",
      " input_1 (InputLayer)        [(None, 224, 224, 3)]     0         \n",
      "                                                                 \n",
      " block1_conv1 (Conv2D)       (None, 224, 224, 64)      1792      \n",
      "                                                                 \n",
      " block1_conv2 (Conv2D)       (None, 224, 224, 64)      36928     \n",
      "                                                                 \n",
      " block1_pool (MaxPooling2D)  (None, 112, 112, 64)      0         \n",
      "                                                                 \n",
      " block2_conv1 (Conv2D)       (None, 112, 112, 128)     73856     \n",
      "                                                                 \n",
      " block2_conv2 (Conv2D)       (None, 112, 112, 128)     147584    \n",
      "                                                                 \n",
      " block2_pool (MaxPooling2D)  (None, 56, 56, 128)       0         \n",
      "                                                                 \n",
      " block3_conv1 (Conv2D)       (None, 56, 56, 256)       295168    \n",
      "                                                                 \n",
      " block3_conv2 (Conv2D)       (None, 56, 56, 256)       590080    \n",
      "                                                                 \n",
      " block3_conv3 (Conv2D)       (None, 56, 56, 256)       590080    \n",
      "                                                                 \n",
      " block3_pool (MaxPooling2D)  (None, 28, 28, 256)       0         \n",
      "                                                                 \n",
      " block4_conv1 (Conv2D)       (None, 28, 28, 512)       1180160   \n",
      "                                                                 \n",
      " block4_conv2 (Conv2D)       (None, 28, 28, 512)       2359808   \n",
      "                                                                 \n",
      " block4_conv3 (Conv2D)       (None, 28, 28, 512)       2359808   \n",
      "                                                                 \n",
      " block4_pool (MaxPooling2D)  (None, 14, 14, 512)       0         \n",
      "                                                                 \n",
      " block5_conv1 (Conv2D)       (None, 14, 14, 512)       2359808   \n",
      "                                                                 \n",
      " block5_conv2 (Conv2D)       (None, 14, 14, 512)       2359808   \n",
      "                                                                 \n",
      " block5_conv3 (Conv2D)       (None, 14, 14, 512)       2359808   \n",
      "                                                                 \n",
      " block5_pool (MaxPooling2D)  (None, 7, 7, 512)         0         \n",
      "                                                                 \n",
      "=================================================================\n",
      "Total params: 14,714,688\n",
      "Trainable params: 14,714,688\n",
      "Non-trainable params: 0\n",
      "_________________________________________________________________\n"
     ]
    }
   ],
   "source": [
    "# 사전학습된 VGG16 모델 불러오기\n",
    "base_model = VGG16(include_top = False, weights = 'imagenet', input_shape=(224, 224, 3))\n",
    "\n",
    "# weights : 가중치 모델 지정 ( None : 초기화된 가중치, 'imagenet' : 사전 학습된 가중치 )\n",
    "# include_top : 네트워크의 최상위 완전 연결 분류기(fc)를 포함할지 안할지 지정\n",
    "#               별도로 식물을 구분하는 완전 연결 층을 추가하려고 하므로, 이를 포함하지 않음 (False)\n",
    "# input_tensor : 입력 텐서 크기 ( Input(shape = (넓이, 높이, 채널)) - 지정하지 않으면 어떤 크기의 입력도 처리 가능\n",
    "# input_shape : 앞에 2개 숫자는 가로, 세로를 가리키며, 마지막 숫자인 3은 R,G,B 3개를 의미한다.\n",
    "base_model.summary()   # 최종 특성 맵의 크기 (7, 7, 512)"
   ]
  },
  {
   "cell_type": "code",
   "execution_count": 17,
   "metadata": {
    "id": "9xmY6klGHKbx"
   },
   "outputs": [],
   "source": [
    "# 모델 Layer 데이터화\n",
    "layer_dict = dict([(layer.name, layer) for layer in base_model.layers])\n",
    "\n",
    "# Layer 추가\n",
    "x = layer_dict['block5_pool'].output\n",
    "\n",
    "x = Conv2D(filters = 64, kernel_size=(3, 3), activation='relu')(x)\n",
    "x = MaxPooling2D(pool_size=(2, 2))(x)\n",
    "x = Flatten()(x)\n",
    "x = Dense(2048, activation='relu')(x)\n",
    "x = Dropout(0.5)(x)\n",
    "x = Dense(1024, activation='relu')(x)\n",
    "x = Dropout(0.5)(x)\n",
    "x = Dense(2, activation='softmax')(x)   # Softmax 함수로 5개 분류\n",
    "\n",
    "# new model 정의\n",
    "new_model = Model(inputs=base_model.input, outputs=x)"
   ]
  },
  {
   "cell_type": "code",
   "execution_count": 18,
   "metadata": {
    "colab": {
     "base_uri": "https://localhost:8080/"
    },
    "executionInfo": {
     "elapsed": 376,
     "status": "ok",
     "timestamp": 1651049673289,
     "user": {
      "displayName": "GYOCHEOL GANG",
      "userId": "14451417543227904327"
     },
     "user_tz": -540
    },
    "id": "6B31IVzLHQUW",
    "outputId": "e77d38fe-4249-42fd-e4cf-d7d617ae4ea8"
   },
   "outputs": [
    {
     "name": "stdout",
     "output_type": "stream",
     "text": [
      "Model: \"model\"\n",
      "_________________________________________________________________\n",
      " Layer (type)                Output Shape              Param #   \n",
      "=================================================================\n",
      " input_1 (InputLayer)        [(None, 224, 224, 3)]     0         \n",
      "                                                                 \n",
      " block1_conv1 (Conv2D)       (None, 224, 224, 64)      1792      \n",
      "                                                                 \n",
      " block1_conv2 (Conv2D)       (None, 224, 224, 64)      36928     \n",
      "                                                                 \n",
      " block1_pool (MaxPooling2D)  (None, 112, 112, 64)      0         \n",
      "                                                                 \n",
      " block2_conv1 (Conv2D)       (None, 112, 112, 128)     73856     \n",
      "                                                                 \n",
      " block2_conv2 (Conv2D)       (None, 112, 112, 128)     147584    \n",
      "                                                                 \n",
      " block2_pool (MaxPooling2D)  (None, 56, 56, 128)       0         \n",
      "                                                                 \n",
      " block3_conv1 (Conv2D)       (None, 56, 56, 256)       295168    \n",
      "                                                                 \n",
      " block3_conv2 (Conv2D)       (None, 56, 56, 256)       590080    \n",
      "                                                                 \n",
      " block3_conv3 (Conv2D)       (None, 56, 56, 256)       590080    \n",
      "                                                                 \n",
      " block3_pool (MaxPooling2D)  (None, 28, 28, 256)       0         \n",
      "                                                                 \n",
      " block4_conv1 (Conv2D)       (None, 28, 28, 512)       1180160   \n",
      "                                                                 \n",
      " block4_conv2 (Conv2D)       (None, 28, 28, 512)       2359808   \n",
      "                                                                 \n",
      " block4_conv3 (Conv2D)       (None, 28, 28, 512)       2359808   \n",
      "                                                                 \n",
      " block4_pool (MaxPooling2D)  (None, 14, 14, 512)       0         \n",
      "                                                                 \n",
      " block5_conv1 (Conv2D)       (None, 14, 14, 512)       2359808   \n",
      "                                                                 \n",
      " block5_conv2 (Conv2D)       (None, 14, 14, 512)       2359808   \n",
      "                                                                 \n",
      " block5_conv3 (Conv2D)       (None, 14, 14, 512)       2359808   \n",
      "                                                                 \n",
      " block5_pool (MaxPooling2D)  (None, 7, 7, 512)         0         \n",
      "                                                                 \n",
      " conv2d (Conv2D)             (None, 5, 5, 64)          294976    \n",
      "                                                                 \n",
      " max_pooling2d (MaxPooling2D  (None, 2, 2, 64)         0         \n",
      " )                                                               \n",
      "                                                                 \n",
      " flatten (Flatten)           (None, 256)               0         \n",
      "                                                                 \n",
      " dense (Dense)               (None, 2048)              526336    \n",
      "                                                                 \n",
      " dropout (Dropout)           (None, 2048)              0         \n",
      "                                                                 \n",
      " dense_1 (Dense)             (None, 1024)              2098176   \n",
      "                                                                 \n",
      " dropout_1 (Dropout)         (None, 1024)              0         \n",
      "                                                                 \n",
      " dense_2 (Dense)             (None, 2)                 2050      \n",
      "                                                                 \n",
      "=================================================================\n",
      "Total params: 17,636,226\n",
      "Trainable params: 2,921,538\n",
      "Non-trainable params: 14,714,688\n",
      "_________________________________________________________________\n"
     ]
    }
   ],
   "source": [
    "# Convolution Layer를 학습되지 않도록 고정\n",
    "# 새롭게 추가된 층 이외의 VGG16의 19번째 레이어까지 학습하지 않고 고정\n",
    "for layer in base_model.layers[:19]:\n",
    "    layer.trainable = False\n",
    "\n",
    "new_model.summary()\n",
    "\n",
    "# 모델 컴파일\n",
    "new_model.compile(loss='categorical_crossentropy', optimizer='adam', metrics=['accuracy'])"
   ]
  },
  {
   "cell_type": "code",
   "execution_count": 19,
   "metadata": {
    "id": "a6tpsPnFxJUL"
   },
   "outputs": [
    {
     "name": "stdout",
     "output_type": "stream",
     "text": [
      "Found 15065 images belonging to 2 classes.\n",
      "Found 3767 images belonging to 2 classes.\n"
     ]
    }
   ],
   "source": [
    "from keras.preprocessing.image import ImageDataGenerator\n",
    "# 사용하는 이유 : 별도의 파일을 안 만들고, 위처럼 폴더의 이름 자체를 label 하는 방법을 이제부터 할 예정이다. 즉 train안에 폴더 3개를 보고 각각 분류가 됐다는 걸 알 수 있다. \n",
    "#                 label의 정보를 주는 방법 중 하나라고 생각하면 될 것이다. 이 폴더를 학습을 시키면 labeling 없이 학습이 된다.\n",
    "\n",
    "# train_dir, validation_dir은 위에서 정의하기\n",
    "batch_size = 20\n",
    "image_size = 224\n",
    "\n",
    "# 학습에 사용될 이미지 데이터 생성기\n",
    "train_datagen = ImageDataGenerator(\n",
    "    rescale=1./255,\n",
    "    rotation_range=20, # 회전 최대 20도\n",
    "    width_shift_range=0.2, # 좌우 이동\n",
    "    height_shift_range=0.2, # 상하 이동\n",
    "    horizontal_flip=True, # 좌우 반전\n",
    "    vertical_flip=True, # 상하 반전\n",
    "    fill_mode='nearest' # 인풋 경계의 바깥 공간은 다음의 모드에 따라 다르게 채운다.\n",
    "    )\n",
    " \n",
    "# 검증에 사용될 이미지 데이터 생성기\n",
    "validation_datagen = ImageDataGenerator(rescale=1./255)\n",
    "\n",
    "\n",
    "# 학습에 사용될 데이터 생성기  \n",
    "train_generator = train_datagen.flow_from_directory(\n",
    "        train_dir,\n",
    "        target_size=(image_size, image_size),\n",
    "        batch_size=batch_size,\n",
    "        class_mode='categorical',\n",
    "        shuffle=True)\n",
    "\n",
    "# 검증에 사용될 데이터 생성기\n",
    "validation_generator = validation_datagen.flow_from_directory(\n",
    "        valid_dir,\n",
    "        target_size=(image_size, image_size),\n",
    "        batch_size=batch_size,\n",
    "        class_mode='categorical',\n",
    "        shuffle=False)\n",
    "\n",
    "\n",
    "\n",
    "class_num=len(train_generator.class_indices)\n",
    "\n",
    "custom_labels = list(validation_generator.class_indices.keys())"
   ]
  },
  {
   "cell_type": "markdown",
   "metadata": {
    "id": "-y02bdnw-OVg"
   },
   "source": [
    "fill_mode: {\"constant\", \"nearest\", \"reflect\" 혹은 \"wrap\"} 중 하나. 디폴트 값은 'nearest'입니다. 인풋 경계의 바깥 공간은 다음의 모드에 따라 다르게 채워집니다:\n",
    "\n",
    "* 'constant': kkkkkkkk|abcd|kkkkkkkk (cval=k)\n",
    "* 'nearest': aaaaaaaa|abcd|dddddddd\n",
    "* 'reflect': abcddcba|abcd|dcbaabcd\n",
    "* 'wrap': abcdabcd|abcd|abcdabcd"
   ]
  },
  {
   "cell_type": "code",
   "execution_count": 20,
   "metadata": {
    "id": "L7tMBeBmJfGH"
   },
   "outputs": [
    {
     "name": "stdout",
     "output_type": "stream",
     "text": [
      "37\n",
      "9\n"
     ]
    }
   ],
   "source": [
    "# 모델 학습 전에 한번만 실행\n",
    "steps_epoch = len(train_generator)//batch_size\n",
    "print(steps_epoch)\n",
    "\n",
    "valid_steps = len(validation_generator)//batch_size\n",
    "print(valid_steps)"
   ]
  },
  {
   "cell_type": "code",
   "execution_count": 21,
   "metadata": {
    "id": "oKBaHe95q7de"
   },
   "outputs": [
    {
     "name": "stdout",
     "output_type": "stream",
     "text": [
      "Epoch 1/20\n"
     ]
    },
    {
     "name": "stderr",
     "output_type": "stream",
     "text": [
      "2022-05-01 17:26:58.363377: W tensorflow/core/platform/profile_utils/cpu_utils.cc:128] Failed to get CPU frequency: 0 Hz\n",
      "2022-05-01 17:26:58.736548: I tensorflow/core/grappler/optimizers/custom_graph_optimizer_registry.cc:113] Plugin optimizer for device_type GPU is enabled.\n"
     ]
    },
    {
     "name": "stdout",
     "output_type": "stream",
     "text": [
      "37/37 [==============================] - ETA: 0s - loss: 0.4707 - accuracy: 0.8932"
     ]
    },
    {
     "name": "stderr",
     "output_type": "stream",
     "text": [
      "2022-05-01 17:28:34.802457: I tensorflow/core/grappler/optimizers/custom_graph_optimizer_registry.cc:113] Plugin optimizer for device_type GPU is enabled.\n"
     ]
    },
    {
     "name": "stdout",
     "output_type": "stream",
     "text": [
      "37/37 [==============================] - 470s 13s/step - loss: 0.4707 - accuracy: 0.8932 - val_loss: 0.2793 - val_accuracy: 0.9036\n",
      "Epoch 2/20\n",
      "37/37 [==============================] - 488s 13s/step - loss: 0.2934 - accuracy: 0.9007 - val_loss: 0.2217 - val_accuracy: 0.9036\n",
      "Epoch 3/20\n",
      "37/37 [==============================] - 491s 14s/step - loss: 0.2676 - accuracy: 0.8973 - val_loss: 0.2444 - val_accuracy: 0.9036\n",
      "Epoch 4/20\n",
      "37/37 [==============================] - 491s 14s/step - loss: 0.2194 - accuracy: 0.9257 - val_loss: 0.2590 - val_accuracy: 0.9036\n",
      "Epoch 5/20\n",
      "37/37 [==============================] - 490s 14s/step - loss: 0.2403 - accuracy: 0.9068 - val_loss: 0.1924 - val_accuracy: 0.9036\n",
      "Epoch 6/20\n",
      "37/37 [==============================] - 489s 13s/step - loss: 0.2252 - accuracy: 0.9108 - val_loss: 0.2013 - val_accuracy: 0.9036\n",
      "Epoch 7/20\n",
      "37/37 [==============================] - 492s 14s/step - loss: 0.2009 - accuracy: 0.9149 - val_loss: 0.1894 - val_accuracy: 0.9036\n",
      "Epoch 8/20\n",
      "37/37 [==============================] - 491s 14s/step - loss: 0.2022 - accuracy: 0.9081 - val_loss: 0.1843 - val_accuracy: 0.9036\n",
      "Epoch 9/20\n",
      "37/37 [==============================] - 498s 14s/step - loss: 0.2301 - accuracy: 0.8986 - val_loss: 0.1967 - val_accuracy: 0.9036\n",
      "Epoch 10/20\n",
      "37/37 [==============================] - 913s 25s/step - loss: 0.2137 - accuracy: 0.8959 - val_loss: 0.2190 - val_accuracy: 0.9036\n",
      "Epoch 11/20\n",
      "37/37 [==============================] - 490s 14s/step - loss: 0.2353 - accuracy: 0.9054 - val_loss: 0.1755 - val_accuracy: 0.9036\n",
      "Epoch 12/20\n",
      "37/37 [==============================] - 1118s 31s/step - loss: 0.1970 - accuracy: 0.9041 - val_loss: 0.1972 - val_accuracy: 0.9180\n",
      "Epoch 13/20\n",
      "37/37 [==============================] - 488s 13s/step - loss: 0.2344 - accuracy: 0.8932 - val_loss: 0.2382 - val_accuracy: 0.9100\n",
      "Epoch 14/20\n",
      "37/37 [==============================] - 795s 22s/step - loss: 0.2149 - accuracy: 0.9230 - val_loss: 0.2299 - val_accuracy: 0.9089\n",
      "Epoch 15/20\n",
      "37/37 [==============================] - 1092s 30s/step - loss: 0.1986 - accuracy: 0.9243 - val_loss: 0.2799 - val_accuracy: 0.9089\n",
      "Epoch 16/20\n",
      "37/37 [==============================] - 489s 13s/step - loss: 0.1994 - accuracy: 0.9216 - val_loss: 0.1716 - val_accuracy: 0.9251\n",
      "Epoch 17/20\n",
      "37/37 [==============================] - 489s 14s/step - loss: 0.1865 - accuracy: 0.9228 - val_loss: 0.2226 - val_accuracy: 0.9158\n",
      "Epoch 18/20\n",
      "37/37 [==============================] - 487s 13s/step - loss: 0.2194 - accuracy: 0.9203 - val_loss: 0.2351 - val_accuracy: 0.9198\n",
      "Epoch 19/20\n",
      "37/37 [==============================] - 489s 13s/step - loss: 0.2869 - accuracy: 0.8730 - val_loss: 0.2119 - val_accuracy: 0.9036\n",
      "Epoch 20/20\n",
      "37/37 [==============================] - 485s 13s/step - loss: 0.1855 - accuracy: 0.9200 - val_loss: 0.1713 - val_accuracy: 0.9036\n"
     ]
    }
   ],
   "source": [
    "# 모델 학습\n",
    "\n",
    "# Make sure that your dataset or generator can generate at least `steps_per_epoch * epochs` batches (in this case, 50 batches)\n",
    "# You may need to use the repeat() function when building your dataset.\n",
    "# 오류나서 steps_per_epoch와 epochs를 곱한 것이 train_generator 값보다 작게 바꿈 (각각 96, 20)\n",
    "# steps_per_epoch와 validation_steps를 위에서 계산\n",
    "\n",
    "history = new_model.fit(train_generator,\n",
    "                        steps_per_epoch = steps_epoch,\n",
    "                        epochs = 20,\n",
    "                        validation_data = validation_generator)"
   ]
  },
  {
   "cell_type": "code",
   "execution_count": 22,
   "metadata": {
    "id": "I0MwWtLjq7bc"
   },
   "outputs": [
    {
     "data": {
      "image/png": "[encoded data removed]",
      "text/plain": [
       "<Figure size 432x288 with 1 Axes>"
      ]
     },
     "metadata": {
      "needs_background": "light"
     },
     "output_type": "display_data"
    },
    {
     "data": {
      "image/png": "[encoded data removed]",
      "text/plain": [
       "<Figure size 432x288 with 1 Axes>"
      ]
     },
     "metadata": {
      "needs_background": "light"
     },
     "output_type": "display_data"
    }
   ],
   "source": [
    "import matplotlib.pyplot as plt\n",
    "\n",
    "acc = history.history['accuracy']\n",
    "val_acc = history.history['val_accuracy']\n",
    "loss = history.history['loss']\n",
    "val_loss = history.history['val_loss']\n",
    "\n",
    "epochs = range(len(acc))\n",
    "\n",
    "plt.plot(epochs, acc, 'r', label='Training acc')\n",
    "plt.plot(epochs, val_acc, 'b', label='validation acc')\n",
    "plt.title('Training and validation accuracy')\n",
    "plt.legend()\n",
    "plt.figure()\n",
    "\n",
    "plt.plot(epochs, loss, 'r', label='Training loss')\n",
    "plt.plot(epochs, val_loss, 'b', label='Validation loss')\n",
    "plt.title('Training and validation loss')\n",
    "plt.legend()\n",
    "\n",
    "plt.show()"
   ]
  },
  {
   "cell_type": "code",
   "execution_count": null,
   "metadata": {},
   "outputs": [],
   "source": []
  },
  {
   "cell_type": "code",
   "execution_count": 25,
   "metadata": {
    "id": "J24VC-R5q7Yi"
   },
   "outputs": [
    {
     "name": "stdout",
     "output_type": "stream",
     "text": [
      "Found 4709 images belonging to 2 classes.\n"
     ]
    },
    {
     "name": "stderr",
     "output_type": "stream",
     "text": [
      "/var/folders/n_/n7h63p7n0p94s4q0cjjkgtl40000gn/T/ipykernel_8671/1716609803.py:6: UserWarning: `Model.evaluate_generator` is deprecated and will be removed in a future version. Please use `Model.evaluate`, which supports generators.\n",
      "  test_loss, test_acc = new_model.evaluate_generator(test_generator,steps=48)\n"
     ]
    },
    {
     "name": "stdout",
     "output_type": "stream",
     "text": [
      "test loss: 0.1654856950044632, test acc: 0.9041666984558105\n"
     ]
    }
   ],
   "source": [
    "test_generator = validation_datagen.flow_from_directory(test_dir,\n",
    "                                                  target_size = (224, 224),\n",
    "                                                  batch_size = 20,\n",
    "                                                  class_mode = 'categorical')\n",
    "\n",
    "test_loss, test_acc = new_model.evaluate_generator(test_generator,steps=48)\n",
    "print(f'test loss: {test_loss}, test acc: {test_acc}')"
   ]
  },
  {
   "cell_type": "code",
   "execution_count": 27,
   "metadata": {
    "id": "2KL82zV6q7WY"
   },
   "outputs": [],
   "source": [
    "# 모델 저장\n",
    "# import tensorflow as tf\n",
    "from tensorflow.keras.applications import mobilenet_v2\n",
    "\n",
    "saved_model_dir = './VGG16_0501.h5'\n",
    "\n",
    "new_model.save(saved_model_dir)"
   ]
  },
  {
   "cell_type": "code",
   "execution_count": null,
   "metadata": {
    "id": "xZR2axfYq7T8"
   },
   "outputs": [],
   "source": []
  }
 ],
 "metadata": {
  "colab": {
   "authorship_tag": "ABX9TyPCfF6jpqMxFYQpJXtj/6nQ",
   "collapsed_sections": [],
   "name": "VGG16.ipynb",
   "provenance": []
  },
  "kernelspec": {
   "display_name": "tf3",
   "language": "python",
   "name": "tf3"
  },
  "language_info": {
   "codemirror_mode": {
    "name": "ipython",
    "version": 3
   },
   "file_extension": ".py",
   "mimetype": "text/x-python",
   "name": "python",
   "nbconvert_exporter": "python",
   "pygments_lexer": "ipython3",
   "version": "3.8.13"
  }
 },
 "nbformat": 4,
 "nbformat_minor": 1
}
